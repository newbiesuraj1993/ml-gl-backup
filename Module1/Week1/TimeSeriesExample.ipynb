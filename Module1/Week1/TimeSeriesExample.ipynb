{
 "cells": [
  {
   "cell_type": "code",
   "execution_count": 1,
   "metadata": {},
   "outputs": [],
   "source": [
    "import pandas as pd"
   ]
  },
  {
   "cell_type": "code",
   "execution_count": 2,
   "metadata": {},
   "outputs": [],
   "source": [
    "df=pd.read_csv('AAPL.csv',parse_dates=[\"Date\"],index_col=\"Date\")"
   ]
  },
  {
   "cell_type": "code",
   "execution_count": 3,
   "metadata": {},
   "outputs": [
    {
     "data": {
      "text/html": [
       "<div>\n",
       "<style scoped>\n",
       "    .dataframe tbody tr th:only-of-type {\n",
       "        vertical-align: middle;\n",
       "    }\n",
       "\n",
       "    .dataframe tbody tr th {\n",
       "        vertical-align: top;\n",
       "    }\n",
       "\n",
       "    .dataframe thead th {\n",
       "        text-align: right;\n",
       "    }\n",
       "</style>\n",
       "<table border=\"1\" class=\"dataframe\">\n",
       "  <thead>\n",
       "    <tr style=\"text-align: right;\">\n",
       "      <th></th>\n",
       "      <th>Open</th>\n",
       "      <th>High</th>\n",
       "      <th>Low</th>\n",
       "      <th>Close</th>\n",
       "      <th>Adj Close</th>\n",
       "      <th>Volume</th>\n",
       "    </tr>\n",
       "    <tr>\n",
       "      <th>Date</th>\n",
       "      <th></th>\n",
       "      <th></th>\n",
       "      <th></th>\n",
       "      <th></th>\n",
       "      <th></th>\n",
       "      <th></th>\n",
       "    </tr>\n",
       "  </thead>\n",
       "  <tbody>\n",
       "    <tr>\n",
       "      <th>2019-02-06</th>\n",
       "      <td>174.649994</td>\n",
       "      <td>175.570007</td>\n",
       "      <td>172.850006</td>\n",
       "      <td>174.240005</td>\n",
       "      <td>173.495911</td>\n",
       "      <td>28239600</td>\n",
       "    </tr>\n",
       "    <tr>\n",
       "      <th>2019-02-07</th>\n",
       "      <td>172.399994</td>\n",
       "      <td>173.940002</td>\n",
       "      <td>170.339996</td>\n",
       "      <td>170.940002</td>\n",
       "      <td>170.210007</td>\n",
       "      <td>31741700</td>\n",
       "    </tr>\n",
       "    <tr>\n",
       "      <th>2019-02-08</th>\n",
       "      <td>168.990005</td>\n",
       "      <td>170.660004</td>\n",
       "      <td>168.419998</td>\n",
       "      <td>170.410004</td>\n",
       "      <td>170.410004</td>\n",
       "      <td>23820000</td>\n",
       "    </tr>\n",
       "    <tr>\n",
       "      <th>2019-02-11</th>\n",
       "      <td>171.050003</td>\n",
       "      <td>171.210007</td>\n",
       "      <td>169.250000</td>\n",
       "      <td>169.429993</td>\n",
       "      <td>169.429993</td>\n",
       "      <td>20993400</td>\n",
       "    </tr>\n",
       "    <tr>\n",
       "      <th>2019-02-12</th>\n",
       "      <td>170.100006</td>\n",
       "      <td>171.000000</td>\n",
       "      <td>169.699997</td>\n",
       "      <td>170.889999</td>\n",
       "      <td>170.889999</td>\n",
       "      <td>22283500</td>\n",
       "    </tr>\n",
       "  </tbody>\n",
       "</table>\n",
       "</div>"
      ],
      "text/plain": [
       "                  Open        High         Low       Close   Adj Close  \\\n",
       "Date                                                                     \n",
       "2019-02-06  174.649994  175.570007  172.850006  174.240005  173.495911   \n",
       "2019-02-07  172.399994  173.940002  170.339996  170.940002  170.210007   \n",
       "2019-02-08  168.990005  170.660004  168.419998  170.410004  170.410004   \n",
       "2019-02-11  171.050003  171.210007  169.250000  169.429993  169.429993   \n",
       "2019-02-12  170.100006  171.000000  169.699997  170.889999  170.889999   \n",
       "\n",
       "              Volume  \n",
       "Date                  \n",
       "2019-02-06  28239600  \n",
       "2019-02-07  31741700  \n",
       "2019-02-08  23820000  \n",
       "2019-02-11  20993400  \n",
       "2019-02-12  22283500  "
      ]
     },
     "execution_count": 3,
     "metadata": {},
     "output_type": "execute_result"
    }
   ],
   "source": [
    "df.head()"
   ]
  },
  {
   "cell_type": "code",
   "execution_count": 7,
   "metadata": {},
   "outputs": [
    {
     "data": {
      "text/plain": [
       "171.82625293750002"
      ]
     },
     "execution_count": 7,
     "metadata": {},
     "output_type": "execute_result"
    }
   ],
   "source": [
    "df['2019-02']['Open'].mean()"
   ]
  },
  {
   "cell_type": "code",
   "execution_count": 13,
   "metadata": {},
   "outputs": [
    {
     "data": {
      "text/plain": [
       "171.192501"
      ]
     },
     "execution_count": 13,
     "metadata": {},
     "output_type": "execute_result"
    }
   ],
   "source": [
    "df['2019-02-06':'2019-02-15']['Open'].mean()"
   ]
  },
  {
   "cell_type": "code",
   "execution_count": 15,
   "metadata": {},
   "outputs": [
    {
     "data": {
      "text/plain": [
       "Date\n",
       "2019-02-28    171.826253\n",
       "2019-03-31    175.145000\n",
       "Freq: M, Name: Open, dtype: float64"
      ]
     },
     "execution_count": 15,
     "metadata": {},
     "output_type": "execute_result"
    }
   ],
   "source": [
    "df['Open'].resample('M').mean()"
   ]
  },
  {
   "cell_type": "code",
   "execution_count": 16,
   "metadata": {},
   "outputs": [
    {
     "data": {
      "text/plain": [
       "Date\n",
       "2019-02-10    172.013331\n",
       "2019-02-17    170.700003\n",
       "2019-02-24    171.070004\n",
       "2019-03-03    173.936005\n",
       "2019-03-10    175.433334\n",
       "Freq: W-SUN, Name: Open, dtype: float64"
      ]
     },
     "execution_count": 16,
     "metadata": {},
     "output_type": "execute_result"
    }
   ],
   "source": [
    "df['Open'].resample('W').mean()"
   ]
  },
  {
   "cell_type": "code",
   "execution_count": 17,
   "metadata": {},
   "outputs": [],
   "source": [
    "df=pd.read_csv('AAPLNoDate.csv')"
   ]
  },
  {
   "cell_type": "code",
   "execution_count": 23,
   "metadata": {},
   "outputs": [
    {
     "data": {
      "text/plain": [
       "20"
      ]
     },
     "execution_count": 23,
     "metadata": {},
     "output_type": "execute_result"
    }
   ],
   "source": [
    "ranges=pd.date_range(start='2018-02-06',end='2018-03-05',freq='B')\n",
    "len(ranges)"
   ]
  },
  {
   "cell_type": "code",
   "execution_count": 24,
   "metadata": {},
   "outputs": [],
   "source": [
    "df['Date']=ranges"
   ]
  },
  {
   "cell_type": "code",
   "execution_count": 27,
   "metadata": {},
   "outputs": [],
   "source": [
    "df.set_index('Date',inplace=True)"
   ]
  },
  {
   "cell_type": "code",
   "execution_count": 30,
   "metadata": {},
   "outputs": [
    {
     "data": {
      "text/html": [
       "<div>\n",
       "<style scoped>\n",
       "    .dataframe tbody tr th:only-of-type {\n",
       "        vertical-align: middle;\n",
       "    }\n",
       "\n",
       "    .dataframe tbody tr th {\n",
       "        vertical-align: top;\n",
       "    }\n",
       "\n",
       "    .dataframe thead th {\n",
       "        text-align: right;\n",
       "    }\n",
       "</style>\n",
       "<table border=\"1\" class=\"dataframe\">\n",
       "  <thead>\n",
       "    <tr style=\"text-align: right;\">\n",
       "      <th></th>\n",
       "      <th>Open</th>\n",
       "      <th>High</th>\n",
       "      <th>Low</th>\n",
       "      <th>Close</th>\n",
       "      <th>Adj Close</th>\n",
       "      <th>Volume</th>\n",
       "    </tr>\n",
       "    <tr>\n",
       "      <th>Date</th>\n",
       "      <th></th>\n",
       "      <th></th>\n",
       "      <th></th>\n",
       "      <th></th>\n",
       "      <th></th>\n",
       "      <th></th>\n",
       "    </tr>\n",
       "  </thead>\n",
       "  <tbody>\n",
       "    <tr>\n",
       "      <th>2018-02-06</th>\n",
       "      <td>174.649994</td>\n",
       "      <td>175.570007</td>\n",
       "      <td>172.850006</td>\n",
       "      <td>174.240005</td>\n",
       "      <td>173.495911</td>\n",
       "      <td>28239600</td>\n",
       "    </tr>\n",
       "    <tr>\n",
       "      <th>2018-02-07</th>\n",
       "      <td>172.399994</td>\n",
       "      <td>173.940002</td>\n",
       "      <td>170.339996</td>\n",
       "      <td>170.940002</td>\n",
       "      <td>170.210007</td>\n",
       "      <td>31741700</td>\n",
       "    </tr>\n",
       "    <tr>\n",
       "      <th>2018-02-08</th>\n",
       "      <td>168.990005</td>\n",
       "      <td>170.660004</td>\n",
       "      <td>168.419998</td>\n",
       "      <td>170.410004</td>\n",
       "      <td>170.410004</td>\n",
       "      <td>23820000</td>\n",
       "    </tr>\n",
       "    <tr>\n",
       "      <th>2018-02-09</th>\n",
       "      <td>171.050003</td>\n",
       "      <td>171.210007</td>\n",
       "      <td>169.250000</td>\n",
       "      <td>169.429993</td>\n",
       "      <td>169.429993</td>\n",
       "      <td>20993400</td>\n",
       "    </tr>\n",
       "    <tr>\n",
       "      <th>2018-02-10</th>\n",
       "      <td>171.050003</td>\n",
       "      <td>171.210007</td>\n",
       "      <td>169.250000</td>\n",
       "      <td>169.429993</td>\n",
       "      <td>169.429993</td>\n",
       "      <td>20993400</td>\n",
       "    </tr>\n",
       "    <tr>\n",
       "      <th>2018-02-11</th>\n",
       "      <td>171.050003</td>\n",
       "      <td>171.210007</td>\n",
       "      <td>169.250000</td>\n",
       "      <td>169.429993</td>\n",
       "      <td>169.429993</td>\n",
       "      <td>20993400</td>\n",
       "    </tr>\n",
       "    <tr>\n",
       "      <th>2018-02-12</th>\n",
       "      <td>170.100006</td>\n",
       "      <td>171.000000</td>\n",
       "      <td>169.699997</td>\n",
       "      <td>170.889999</td>\n",
       "      <td>170.889999</td>\n",
       "      <td>22283500</td>\n",
       "    </tr>\n",
       "    <tr>\n",
       "      <th>2018-02-13</th>\n",
       "      <td>171.389999</td>\n",
       "      <td>172.479996</td>\n",
       "      <td>169.919998</td>\n",
       "      <td>170.179993</td>\n",
       "      <td>170.179993</td>\n",
       "      <td>22490200</td>\n",
       "    </tr>\n",
       "    <tr>\n",
       "      <th>2018-02-14</th>\n",
       "      <td>169.710007</td>\n",
       "      <td>171.259995</td>\n",
       "      <td>169.380005</td>\n",
       "      <td>170.800003</td>\n",
       "      <td>170.800003</td>\n",
       "      <td>21835700</td>\n",
       "    </tr>\n",
       "    <tr>\n",
       "      <th>2018-02-15</th>\n",
       "      <td>171.250000</td>\n",
       "      <td>171.699997</td>\n",
       "      <td>169.750000</td>\n",
       "      <td>170.419998</td>\n",
       "      <td>170.419998</td>\n",
       "      <td>24626800</td>\n",
       "    </tr>\n",
       "    <tr>\n",
       "      <th>2018-02-16</th>\n",
       "      <td>169.710007</td>\n",
       "      <td>171.440002</td>\n",
       "      <td>169.490005</td>\n",
       "      <td>170.929993</td>\n",
       "      <td>170.929993</td>\n",
       "      <td>18972800</td>\n",
       "    </tr>\n",
       "    <tr>\n",
       "      <th>2018-02-17</th>\n",
       "      <td>169.710007</td>\n",
       "      <td>171.440002</td>\n",
       "      <td>169.490005</td>\n",
       "      <td>170.929993</td>\n",
       "      <td>170.929993</td>\n",
       "      <td>18972800</td>\n",
       "    </tr>\n",
       "    <tr>\n",
       "      <th>2018-02-18</th>\n",
       "      <td>169.710007</td>\n",
       "      <td>171.440002</td>\n",
       "      <td>169.490005</td>\n",
       "      <td>170.929993</td>\n",
       "      <td>170.929993</td>\n",
       "      <td>18972800</td>\n",
       "    </tr>\n",
       "    <tr>\n",
       "      <th>2018-02-19</th>\n",
       "      <td>171.190002</td>\n",
       "      <td>173.320007</td>\n",
       "      <td>170.990005</td>\n",
       "      <td>172.029999</td>\n",
       "      <td>172.029999</td>\n",
       "      <td>26114400</td>\n",
       "    </tr>\n",
       "    <tr>\n",
       "      <th>2018-02-20</th>\n",
       "      <td>171.800003</td>\n",
       "      <td>172.369995</td>\n",
       "      <td>170.300003</td>\n",
       "      <td>171.059998</td>\n",
       "      <td>171.059998</td>\n",
       "      <td>17249700</td>\n",
       "    </tr>\n",
       "    <tr>\n",
       "      <th>2018-02-21</th>\n",
       "      <td>171.580002</td>\n",
       "      <td>173.000000</td>\n",
       "      <td>171.380005</td>\n",
       "      <td>172.970001</td>\n",
       "      <td>172.970001</td>\n",
       "      <td>18913200</td>\n",
       "    </tr>\n",
       "    <tr>\n",
       "      <th>2018-02-22</th>\n",
       "      <td>174.160004</td>\n",
       "      <td>175.869995</td>\n",
       "      <td>173.949997</td>\n",
       "      <td>174.229996</td>\n",
       "      <td>174.229996</td>\n",
       "      <td>21873400</td>\n",
       "    </tr>\n",
       "    <tr>\n",
       "      <th>2018-02-23</th>\n",
       "      <td>173.710007</td>\n",
       "      <td>175.300003</td>\n",
       "      <td>173.169998</td>\n",
       "      <td>174.330002</td>\n",
       "      <td>174.330002</td>\n",
       "      <td>17070200</td>\n",
       "    </tr>\n",
       "    <tr>\n",
       "      <th>2018-02-24</th>\n",
       "      <td>173.710007</td>\n",
       "      <td>175.300003</td>\n",
       "      <td>173.169998</td>\n",
       "      <td>174.330002</td>\n",
       "      <td>174.330002</td>\n",
       "      <td>17070200</td>\n",
       "    </tr>\n",
       "    <tr>\n",
       "      <th>2018-02-25</th>\n",
       "      <td>173.710007</td>\n",
       "      <td>175.300003</td>\n",
       "      <td>173.169998</td>\n",
       "      <td>174.330002</td>\n",
       "      <td>174.330002</td>\n",
       "      <td>17070200</td>\n",
       "    </tr>\n",
       "    <tr>\n",
       "      <th>2018-02-26</th>\n",
       "      <td>173.210007</td>\n",
       "      <td>175.000000</td>\n",
       "      <td>172.729996</td>\n",
       "      <td>174.869995</td>\n",
       "      <td>174.869995</td>\n",
       "      <td>27835400</td>\n",
       "    </tr>\n",
       "    <tr>\n",
       "      <th>2018-02-27</th>\n",
       "      <td>174.320007</td>\n",
       "      <td>174.910004</td>\n",
       "      <td>172.919998</td>\n",
       "      <td>173.149994</td>\n",
       "      <td>173.149994</td>\n",
       "      <td>28215400</td>\n",
       "    </tr>\n",
       "    <tr>\n",
       "      <th>2018-02-28</th>\n",
       "      <td>174.279999</td>\n",
       "      <td>175.149994</td>\n",
       "      <td>172.889999</td>\n",
       "      <td>174.970001</td>\n",
       "      <td>174.970001</td>\n",
       "      <td>25886200</td>\n",
       "    </tr>\n",
       "    <tr>\n",
       "      <th>2018-03-01</th>\n",
       "      <td>175.690002</td>\n",
       "      <td>177.750000</td>\n",
       "      <td>173.970001</td>\n",
       "      <td>175.850006</td>\n",
       "      <td>175.850006</td>\n",
       "      <td>27436200</td>\n",
       "    </tr>\n",
       "    <tr>\n",
       "      <th>2018-03-02</th>\n",
       "      <td>175.940002</td>\n",
       "      <td>176.000000</td>\n",
       "      <td>174.539993</td>\n",
       "      <td>175.529999</td>\n",
       "      <td>175.529999</td>\n",
       "      <td>19726200</td>\n",
       "    </tr>\n",
       "    <tr>\n",
       "      <th>2018-03-03</th>\n",
       "      <td>175.940002</td>\n",
       "      <td>176.000000</td>\n",
       "      <td>174.539993</td>\n",
       "      <td>175.529999</td>\n",
       "      <td>175.529999</td>\n",
       "      <td>19726200</td>\n",
       "    </tr>\n",
       "    <tr>\n",
       "      <th>2018-03-04</th>\n",
       "      <td>175.940002</td>\n",
       "      <td>176.000000</td>\n",
       "      <td>174.539993</td>\n",
       "      <td>175.529999</td>\n",
       "      <td>175.529999</td>\n",
       "      <td>19726200</td>\n",
       "    </tr>\n",
       "    <tr>\n",
       "      <th>2018-03-05</th>\n",
       "      <td>174.669998</td>\n",
       "      <td>175.490005</td>\n",
       "      <td>173.940002</td>\n",
       "      <td>175.024994</td>\n",
       "      <td>175.024994</td>\n",
       "      <td>6422467</td>\n",
       "    </tr>\n",
       "  </tbody>\n",
       "</table>\n",
       "</div>"
      ],
      "text/plain": [
       "                  Open        High         Low       Close   Adj Close  \\\n",
       "Date                                                                     \n",
       "2018-02-06  174.649994  175.570007  172.850006  174.240005  173.495911   \n",
       "2018-02-07  172.399994  173.940002  170.339996  170.940002  170.210007   \n",
       "2018-02-08  168.990005  170.660004  168.419998  170.410004  170.410004   \n",
       "2018-02-09  171.050003  171.210007  169.250000  169.429993  169.429993   \n",
       "2018-02-10  171.050003  171.210007  169.250000  169.429993  169.429993   \n",
       "2018-02-11  171.050003  171.210007  169.250000  169.429993  169.429993   \n",
       "2018-02-12  170.100006  171.000000  169.699997  170.889999  170.889999   \n",
       "2018-02-13  171.389999  172.479996  169.919998  170.179993  170.179993   \n",
       "2018-02-14  169.710007  171.259995  169.380005  170.800003  170.800003   \n",
       "2018-02-15  171.250000  171.699997  169.750000  170.419998  170.419998   \n",
       "2018-02-16  169.710007  171.440002  169.490005  170.929993  170.929993   \n",
       "2018-02-17  169.710007  171.440002  169.490005  170.929993  170.929993   \n",
       "2018-02-18  169.710007  171.440002  169.490005  170.929993  170.929993   \n",
       "2018-02-19  171.190002  173.320007  170.990005  172.029999  172.029999   \n",
       "2018-02-20  171.800003  172.369995  170.300003  171.059998  171.059998   \n",
       "2018-02-21  171.580002  173.000000  171.380005  172.970001  172.970001   \n",
       "2018-02-22  174.160004  175.869995  173.949997  174.229996  174.229996   \n",
       "2018-02-23  173.710007  175.300003  173.169998  174.330002  174.330002   \n",
       "2018-02-24  173.710007  175.300003  173.169998  174.330002  174.330002   \n",
       "2018-02-25  173.710007  175.300003  173.169998  174.330002  174.330002   \n",
       "2018-02-26  173.210007  175.000000  172.729996  174.869995  174.869995   \n",
       "2018-02-27  174.320007  174.910004  172.919998  173.149994  173.149994   \n",
       "2018-02-28  174.279999  175.149994  172.889999  174.970001  174.970001   \n",
       "2018-03-01  175.690002  177.750000  173.970001  175.850006  175.850006   \n",
       "2018-03-02  175.940002  176.000000  174.539993  175.529999  175.529999   \n",
       "2018-03-03  175.940002  176.000000  174.539993  175.529999  175.529999   \n",
       "2018-03-04  175.940002  176.000000  174.539993  175.529999  175.529999   \n",
       "2018-03-05  174.669998  175.490005  173.940002  175.024994  175.024994   \n",
       "\n",
       "              Volume  \n",
       "Date                  \n",
       "2018-02-06  28239600  \n",
       "2018-02-07  31741700  \n",
       "2018-02-08  23820000  \n",
       "2018-02-09  20993400  \n",
       "2018-02-10  20993400  \n",
       "2018-02-11  20993400  \n",
       "2018-02-12  22283500  \n",
       "2018-02-13  22490200  \n",
       "2018-02-14  21835700  \n",
       "2018-02-15  24626800  \n",
       "2018-02-16  18972800  \n",
       "2018-02-17  18972800  \n",
       "2018-02-18  18972800  \n",
       "2018-02-19  26114400  \n",
       "2018-02-20  17249700  \n",
       "2018-02-21  18913200  \n",
       "2018-02-22  21873400  \n",
       "2018-02-23  17070200  \n",
       "2018-02-24  17070200  \n",
       "2018-02-25  17070200  \n",
       "2018-02-26  27835400  \n",
       "2018-02-27  28215400  \n",
       "2018-02-28  25886200  \n",
       "2018-03-01  27436200  \n",
       "2018-03-02  19726200  \n",
       "2018-03-03  19726200  \n",
       "2018-03-04  19726200  \n",
       "2018-03-05   6422467  "
      ]
     },
     "execution_count": 30,
     "metadata": {},
     "output_type": "execute_result"
    }
   ],
   "source": [
    "df.asfreq(freq='D',method='pad')"
   ]
  },
  {
   "cell_type": "code",
   "execution_count": 37,
   "metadata": {},
   "outputs": [],
   "source": [
    "ranges=pd.date_range(start='2018-02-06',periods=len(df['Open']),freq='B')"
   ]
  },
  {
   "cell_type": "code",
   "execution_count": 38,
   "metadata": {},
   "outputs": [
    {
     "data": {
      "text/plain": [
       "DatetimeIndex(['2018-02-06', '2018-02-07', '2018-02-08', '2018-02-09',\n",
       "               '2018-02-12', '2018-02-13', '2018-02-14', '2018-02-15',\n",
       "               '2018-02-16', '2018-02-19', '2018-02-20', '2018-02-21',\n",
       "               '2018-02-22', '2018-02-23', '2018-02-26', '2018-02-27',\n",
       "               '2018-02-28', '2018-03-01', '2018-03-02', '2018-03-05'],\n",
       "              dtype='datetime64[ns]', freq='B')"
      ]
     },
     "execution_count": 38,
     "metadata": {},
     "output_type": "execute_result"
    }
   ],
   "source": [
    "ranges"
   ]
  },
  {
   "cell_type": "code",
   "execution_count": 40,
   "metadata": {},
   "outputs": [],
   "source": [
    "from pandas.tseries.holiday import USFederalHolidayCalendar\n",
    "from pandas.tseries.offsets import CustomBusinessDay\n",
    "\n",
    "usb=CustomBusinessDay(calendar=USFederalHolidayCalendar())\n",
    "ranges=pd.date_range(start='2018-02-06',periods=len(df['Open']),freq=usb)"
   ]
  },
  {
   "cell_type": "code",
   "execution_count": 41,
   "metadata": {},
   "outputs": [
    {
     "data": {
      "text/plain": [
       "DatetimeIndex(['2018-02-06', '2018-02-07', '2018-02-08', '2018-02-09',\n",
       "               '2018-02-12', '2018-02-13', '2018-02-14', '2018-02-15',\n",
       "               '2018-02-16', '2018-02-20', '2018-02-21', '2018-02-22',\n",
       "               '2018-02-23', '2018-02-26', '2018-02-27', '2018-02-28',\n",
       "               '2018-03-01', '2018-03-02', '2018-03-05', '2018-03-06'],\n",
       "              dtype='datetime64[ns]', freq='C')"
      ]
     },
     "execution_count": 41,
     "metadata": {},
     "output_type": "execute_result"
    }
   ],
   "source": [
    "ranges"
   ]
  },
  {
   "cell_type": "code",
   "execution_count": 50,
   "metadata": {},
   "outputs": [],
   "source": [
    "from pandas.tseries.holiday import AbstractHolidayCalendar, nearest_workday, Holiday\n",
    "class customizedCalendar(AbstractHolidayCalendar):\n",
    "    rules = [\n",
    "        Holiday('Birth Day', month=7, day=20, observance=nearest_workday),\n",
    "    ]\n",
    "    \n",
    "custCal = CustomBusinessDay(calendar=customizedCalendar())\n",
    "ranges=pd.date_range('7/1/2019','7/30/2019',freq=custCal)"
   ]
  },
  {
   "cell_type": "code",
   "execution_count": 51,
   "metadata": {},
   "outputs": [
    {
     "data": {
      "text/plain": [
       "DatetimeIndex(['2019-07-01', '2019-07-02', '2019-07-03', '2019-07-04',\n",
       "               '2019-07-05', '2019-07-08', '2019-07-09', '2019-07-10',\n",
       "               '2019-07-11', '2019-07-12', '2019-07-15', '2019-07-16',\n",
       "               '2019-07-17', '2019-07-18', '2019-07-22', '2019-07-23',\n",
       "               '2019-07-24', '2019-07-25', '2019-07-26', '2019-07-29',\n",
       "               '2019-07-30'],\n",
       "              dtype='datetime64[ns]', freq='C')"
      ]
     },
     "execution_count": 51,
     "metadata": {},
     "output_type": "execute_result"
    }
   ],
   "source": [
    "ranges"
   ]
  },
  {
   "cell_type": "code",
   "execution_count": 53,
   "metadata": {},
   "outputs": [
    {
     "data": {
      "text/plain": [
       "DatetimeIndex(['2019-07-01', '2019-07-02', '2019-07-03', '2019-07-04',\n",
       "               '2019-07-07', '2019-07-08', '2019-07-09', '2019-07-10',\n",
       "               '2019-07-11', '2019-07-14', '2019-07-15', '2019-07-16',\n",
       "               '2019-07-17', '2019-07-18', '2019-07-21', '2019-07-22',\n",
       "               '2019-07-23', '2019-07-24', '2019-07-25', '2019-07-28'],\n",
       "              dtype='datetime64[ns]', freq='C')"
      ]
     },
     "execution_count": 53,
     "metadata": {},
     "output_type": "execute_result"
    }
   ],
   "source": [
    "arabian_weekdays = \"Sun Mon Tue Wed Thu\"\n",
    "\n",
    "b = CustomBusinessDay(weekmask=arabian_weekdays)\n",
    "\n",
    "pd.date_range(start=\"7/1/2019\",periods=20,freq=b)"
   ]
  },
  {
   "cell_type": "code",
   "execution_count": null,
   "metadata": {},
   "outputs": [],
   "source": []
  }
 ],
 "metadata": {
  "kernelspec": {
   "display_name": "Python 3",
   "language": "python",
   "name": "python3"
  },
  "language_info": {
   "codemirror_mode": {
    "name": "ipython",
    "version": 3
   },
   "file_extension": ".py",
   "mimetype": "text/x-python",
   "name": "python",
   "nbconvert_exporter": "python",
   "pygments_lexer": "ipython3",
   "version": "3.6.5"
  }
 },
 "nbformat": 4,
 "nbformat_minor": 2
}
